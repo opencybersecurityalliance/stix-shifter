{
 "cells": [
  {
   "cell_type": "markdown",
   "id": "8ee0344c",
   "metadata": {},
   "source": [
    "# STIX-Shifter CLI Quick Lab\n",
    "\n",
    "## Overview\n",
    "\n",
    "STIX (Structured Threat Information eXpression) is a JSON structure used to share cybersecurity threat intelligence. STIX-shifter is an open-source python library that is part of the Open Cybersecurity Alliance. It allows data repositories to be queried using STIX patterning and return the results as STIX cyber observable objects. This lab will allow users to test out the various stix-shifter CLI commands.\n",
    "\n",
    "## STIX Patterning\n",
    "\n",
    "A [STIX pattern](http://docs.oasis-open.org/cti/stix/v2.0/cs01/part5-stix-patterning/stix-v2.0-cs01-part5-stix-patterning.html) is used to query [cyber observable objects](https://docs.oasis-open.org/cti/stix/v2.0/stix-v2.0-part4-cyber-observable-objects.html). STIX patterns take the format of:\n",
    "\n",
    "```\n",
    "[<STIX OBJECT>:<PROPERTY> = 'some value' AND <STIX OBJECT>:<PROPERTY> IN (value_1, value_2)] \n",
    "OR [<STIX OBJECT>:<PROPERTY> = 'some value']\n",
    "```\n",
    "\n",
    "The `[ ]` represents one observation. A pattern can have multiple observations joined by the AND or OR observation operators. An observation can be thought of as one instance or row of data. Within the observation is one or more comparison expressions that looks for a value associated to a cyber observable STIX object and its property. This is a sample pattern with one observation containing an comparison operation for an IP lookup: \n",
    "```\n",
    "[ipv4-addr:value = '1.2.3.4']\n",
    "``` \n",
    "The STIX object in this case is `ipv4-addr` and the property on that object is `value`.\n",
    "\n",
    "## STIX Observed Data\n",
    "\n",
    "STIX-shifter returns a `bundle` of STIX `observed-data` objects. The bundle is a container object to hold the results. Below is a sample bundle containing one identity object (representing the data source) and one observed-data object containing 10 cyber observable objects (numbered from 0 to 9):\n",
    "\n",
    "```json\n",
    "{\n",
    "    \"type\": \"bundle\",\n",
    "    \"id\": \"bundle--57d455df-105d-4722-8277-e569110e82ed\",\n",
    "    \"objects\": [\n",
    "        {\n",
    "            \"type\": \"identity\",\n",
    "            \"id\": \"identity--f431f809-377b-45e0-aa1c-6a4751cae5ff\",\n",
    "            \"name\": \"QRadar\",\n",
    "            \"identity_class\": \"system\"\n",
    "        },\n",
    "        {\n",
    "            \"id\": \"observed-data--4db61897-4725-483b-9e68-2874e48650c5\",\n",
    "            \"type\": \"observed-data\",\n",
    "            \"created_by_ref\": \"identity--f431f809-377b-45e0-aa1c-6a4751cae5ff\",\n",
    "            \"created\": \"2022-04-28T14:16:41.544Z\",\n",
    "            \"modified\": \"2022-04-28T14:16:41.544Z\",\n",
    "            \"objects\": {\n",
    "                \"0\": {\n",
    "                    \"type\": \"x-oca-event\",\n",
    "                    \"action\": \"Logon Failure - Unknown user name or bad password\",\n",
    "                    \"outcome\": \"Host Login Failed\",\n",
    "                    \"category\": [\n",
    "                        \"Authentication\"\n",
    "                    ],\n",
    "                    \"provider\": \"Microsoft Windows Security Event Log\",\n",
    "                    \"agent\": \"WindowsAuthServer @ microsoft.windows.test.com\",\n",
    "                    \"created\": \"2021-06-28T19:35:58.000Z\",\n",
    "                    \"network_ref\": \"2\",\n",
    "                    \"user_ref\": \"4\",\n",
    "                    \"url_ref\": \"7\",\n",
    "                    \"file_ref\": \"8\"\n",
    "                },\n",
    "                \"1\": {\n",
    "                    \"type\": \"ipv4-addr\",\n",
    "                    \"value\": \"109.0.216.203\"\n",
    "                },\n",
    "                \"2\": {\n",
    "                    \"type\": \"network-traffic\",\n",
    "                    \"src_ref\": \"1\",\n",
    "                    \"src_port\": 3000,\n",
    "                    \"dst_ref\": \"3\",\n",
    "                    \"dst_port\": 1000,\n",
    "                    \"protocols\": [\n",
    "                        \"TCP\"\n",
    "                    ]\n",
    "                },\n",
    "                \"3\": {\n",
    "                    \"type\": \"ipv4-addr\",\n",
    "                    \"value\": \"192.168.1.11\"\n",
    "                },\n",
    "                \"4\": {\n",
    "                    \"type\": \"user-account\",\n",
    "                    \"user_id\": \"bill_holland\"\n",
    "                },\n",
    "                \"5\": {\n",
    "                    \"type\": \"ipv4-addr\",\n",
    "                    \"value\": \"0.0.0.0\"\n",
    "                },\n",
    "                \"6\": {\n",
    "                    \"type\": \"artifact\",\n",
    "                    \"payload_bin\": \"PDEzPk1hciAyMSAwMTo0Mjo1MCBtaWNyb3NvZnQud2luZG93cy50ZXN0LmNvbQ==\",\n",
    "                    \"mime_type\": \"text/plain\"\n",
    "                },\n",
    "                \"7\": {\n",
    "                    \"type\": \"url\",\n",
    "                    \"value\": \"www.example.com\"\n",
    "                },\n",
    "                \"8\": {\n",
    "                    \"type\": \"file\",\n",
    "                    \"name\": \"myfile.exe\",\n",
    "                    \"hashes\": {\n",
    "                        \"SHA-256\": \"86c5ceb27e1bf441130299c0209e5f35b88089f62c06b2b09d65772274f12057\"\n",
    "                    },\n",
    "                    \"parent_directory_ref\": \"9\"\n",
    "                },\n",
    "                \"9\": {\n",
    "                    \"type\": \"directory\",\n",
    "                    \"path\": \"C://filepath\"\n",
    "                }\n",
    "            },\n",
    "            \"first_observed\": \"2021-06-28T19:35:58.652Z\",\n",
    "            \"last_observed\": \"2021-06-28T19:36:58.652Z\",\n",
    "            \"number_observed\": 31\n",
    "        }\n",
    "    ],\n",
    "    \"spec_version\": \"2.0\"\n",
    "}\n",
    "```\n",
    "\n",
    "Each observed-data object contains a numbered set of cyber-observable objects. The properties on the cyber-observable object store the data returned from the data source. See the [STIX 2.0 standard](https://docs.oasis-open.org/cti/stix/v2.0/stix-v2.0-part4-cyber-observable-objects.html) for more on cyber observable objects.\n",
    "\n",
    "## STIX-Shifter CLI commands\n",
    "\n",
    "The CLI tools, and by extension the connector logic, is broken up into two types of functions: `translate` and `transmit`. \n",
    "\n",
    "The **translate** functions handle the following tasks:\n",
    "\n",
    "1. Convert a STIX pattern into a native data source query. \n",
    "2. Convert JSON results returned from the data source into STIX objects. \n",
    "\n",
    "The **transmit** functions interface with the target data source APIs and handle the following tasks:\n",
    "\n",
    "1. Make queries of the data source\n",
    "2. Check the query status\n",
    "3. Fetch the query results\n",
    "4. Ping the data source to confirm a connection can be made\n",
    "5. Delete an active query (if supported by the APIs)\n",
    "\n",
    "There is also an **execute** command that runs through the entire query flow:\n",
    "\n",
    "* Translate a STIX pattern into a native data source query\n",
    "* Send the query to the data source via the data source APIs\n",
    "* Check the status of the query via the data source APIs\n",
    "* Fetch the query results via the APIs and, if needed, converts them to JSON\n",
    "* Translate the JSON results into STIX objects"
   ]
  },
  {
   "attachments": {
    "set_virtual_env.png": {
     "image/png": "[encoded data removed]"
    }
   },
   "cell_type": "markdown",
   "id": "130377a3",
   "metadata": {},
   "source": [
    "----------------------------------------------------------------------------------------------------------------------\n",
    "\n",
    "## Setup\n",
    "\n",
    "### Prerequisites\n",
    "\n",
    "* Python 3.8 or greater\n",
    "* pip\n",
    "* venv\n",
    "* Ability to run bash commands\n",
    "\n",
    "### Run the following steps in a terminal\n",
    "\n",
    "### 1. Create a working directory\n",
    "\n",
    "Call the folder **connector_lab**\n",
    "\n",
    "```bash\n",
    "mkdir connector_lab\n",
    "cd connector_lab\n",
    "```\n",
    "\n",
    "### 2. Clone the stix-shifter project\n",
    "\n",
    "```bash\n",
    "git clone https://github.com/opencybersecurityalliance/stix-shifter.git\n",
    "```\n",
    "\n",
    "### 3. Install and activate a Python virtual environment and upgrade pip\n",
    "\n",
    "```bash\n",
    "python3 -m venv labenv\n",
    "source labenv/bin/activate\n",
    "python3 -m pip install --upgrade pip\n",
    "```\n",
    "\n",
    "### 4. CD into the STIX-shifter lab directory\n",
    "\n",
    "```bash\n",
    "cd stix-shifter/docs/lab\n",
    "```\n",
    "\n",
    "### 5. Install the required libraries used in this lab\n",
    "\n",
    "This installs the core stix-shifter and stix-shifter-utils libraries, the STIX-bundle, QRadar, and MySQL connectors, and the Jupyter Notebook library.\n",
    "\n",
    "```bash\n",
    "python3 -m pip install -r requirements-lab.txt\n",
    "```\n",
    "\n",
    "### 6. Install the ipython kernal to use the virtual environment\n",
    "\n",
    "```bash\n",
    "ipython kernel install --user --name=labenv\n",
    "```\n",
    "\n",
    "### 7. Run jupyter notebook\n",
    "\n",
    "```bash\n",
    "jupyter notebook\n",
    "```\n",
    "\n",
    "----------------------------------------------------------------------------------------------------------------------\n",
    "\n",
    "## All remaining steps take place directly in the jupyter notebook\n",
    "\n",
    "### 8. Confirm the Jupyter Kernel is using the labenv virtual environment\n",
    "\n",
    "If the kernel is something other than `labenv`, change it. This will ensure that every notebook cell runs in the virtual environment.\n",
    "\n",
    "![set_virtual_env.png](attachment:set_virtual_env.png)"
   ]
  },
  {
   "cell_type": "markdown",
   "id": "174f0aa9",
   "metadata": {},
   "source": [
    "----------------------------------------------------------------------------------------------------------------------\n",
    "\n",
    "# Lab Exercise 1: Using CLI tools with the STIX-Bundle connector\n",
    "\n",
    "The STIX Bundle connector is different from other connectors in that it doesn't actually translate any STIX patterns or JSON results. It will simply pass the pattern on to the [stix2-matcher](https://pypi.org/project/stix2-matcher/) library which will then use it to query against a bundle of STIX data. Since this library returns a bundle of STIX data, stix-shifter does not need to translation the results back into STIX."
   ]
  },
  {
   "cell_type": "markdown",
   "id": "5f60b5e5",
   "metadata": {},
   "source": [
    "## Step 1: Examine the STIX Bundle\n",
    "This is a bundle of STIX observed-data objects containing sanitized data from a CrowdStrike instance.\n",
    "\n",
    "https://raw.githubusercontent.com/opencybersecurityalliance/stix-shifter/develop/data/cybox/crowdstrike/crowdstrike_detections_20210723.json\n",
    "\n",
    "The `stix_bundle` connector will query the sample STIX bundle and return a subset of data based on the query pattern.\n",
    "\n",
    "Note the bundle of observed-data objects that are returned. Each of these objects contains a numbered set of cyber observable objects (`url`, `network-traffic`, `ipv4-addr`…) which contain the data from the target data source."
   ]
  },
  {
   "cell_type": "markdown",
   "id": "0257bd78",
   "metadata": {},
   "source": [
    "## Step 2: Set environment variables to be used in the CLI\n",
    "\n",
    "### STIX Bundle URL\n",
    "This points to a publicly aviablable, static JSON file of STIX data. "
   ]
  },
  {
   "cell_type": "code",
   "execution_count": null,
   "id": "4844548d",
   "metadata": {},
   "outputs": [],
   "source": [
    "%env BUNDLE_URL https://raw.githubusercontent.com/opencybersecurityalliance/stix-shifter/develop/data/cybox/crowdstrike/crowdstrike_detections_20210723.json\n",
    "    "
   ]
  },
  {
   "cell_type": "markdown",
   "id": "d8876e52",
   "metadata": {},
   "source": [
    "### STIX Identity Object\n",
    "The identity object represents the data source the STIX results are taken from. As we will see, the identity object is passed into some of the CLI commands so that STIX-shifter can prepend it to the top of the bundle of STIX results."
   ]
  },
  {
   "cell_type": "code",
   "execution_count": null,
   "id": "8867db72",
   "metadata": {},
   "outputs": [],
   "source": [
    "%env IDENTITY_OBJECT \\\n",
    "{ \\\n",
    " \"type\":\"identity\", \\\n",
    " \"id\":\"identity--f431f809-377b-45e0-aa1c-6a4751cae5ff\", \\\n",
    " \"name\":\"STIX Bundle\", \\\n",
    " \"identity_class\":\"system\", \\\n",
    " \"created\": \"2022-04-07T20:35:41.042Z\", \\\n",
    " \"modified\": \"2022-04-07T20:35:41.042Z\" \\\n",
    "}   "
   ]
  },
  {
   "cell_type": "markdown",
   "id": "11d38a9a",
   "metadata": {},
   "source": [
    "### Authentication object\n",
    "The CLI transmission commands require that connection and authention details are passed in so that the connector can talk to the target data source. In this case the `\"auth\"` object is empty since the STIX bundle we will query is publicly available and doesn't need any access credentials."
   ]
  },
  {
   "cell_type": "code",
   "execution_count": null,
   "id": "340b792b",
   "metadata": {},
   "outputs": [],
   "source": [
    "%env BUNDLE_AUTH {\"auth\": {}}"
   ]
  },
  {
   "cell_type": "markdown",
   "id": "b13ae679",
   "metadata": {},
   "source": [
    "## STIX-Shifter Transmission CLI commands\n",
    "The transmission commands use the data source APIs to send a query, check the status, fetch the results, and ping the connection."
   ]
  },
  {
   "cell_type": "markdown",
   "id": "e407e416",
   "metadata": {},
   "source": [
    "## Step 3: Run the ping command\n",
    "The `ping` command checks that the data source can be reached by the stix-shifter connector."
   ]
  },
  {
   "cell_type": "code",
   "execution_count": null,
   "id": "a1916a50",
   "metadata": {},
   "outputs": [],
   "source": [
    "%%bash\n",
    "stix-shifter transmit stix_bundle '{\"url\": \"'\"$BUNDLE_URL\"'\"}' \"$BUNDLE_AUTH\" ping\n"
   ]
  },
  {
   "cell_type": "markdown",
   "id": "533c714d",
   "metadata": {},
   "source": [
    "## Step 4: Run the query command\n",
    "This command sends the native query to the data source."
   ]
  },
  {
   "cell_type": "code",
   "execution_count": null,
   "id": "5191d11e",
   "metadata": {},
   "outputs": [],
   "source": [
    "%%bash\n",
    "stix-shifter transmit stix_bundle '{\"url\": \"'\"$BUNDLE_URL\"'\"}' \"$BUNDLE_AUTH\" query \\\n",
    "\"[ipv4-addr:value = '192.168.6.242'] START t'2021-06-01T11:36:21Z' STOP t'2021-06-20T11:36:21Z'\"\n"
   ]
  },
  {
   "cell_type": "markdown",
   "id": "a5496cbf",
   "metadata": {},
   "source": [
    "## Step 5: Run the status command\n",
    "This command checks the status of the query."
   ]
  },
  {
   "cell_type": "code",
   "execution_count": null,
   "id": "d76d8a2f",
   "metadata": {},
   "outputs": [],
   "source": [
    "%%bash\n",
    "stix-shifter transmit stix_bundle '{\"url\": \"'\"$BUNDLE_URL\"'\"}' \"$BUNDLE_AUTH\" status \\\n",
    "\"[ipv4-addr:value = '192.168.6.242'] START t'2021-06-01T11:36:21Z' STOP t'2021-06-20T11:36:21Z'\"\n"
   ]
  },
  {
   "cell_type": "markdown",
   "id": "a94dde00",
   "metadata": {},
   "source": [
    "## Step 6: Run the results command\n",
    "This command fetches the query results"
   ]
  },
  {
   "cell_type": "code",
   "execution_count": null,
   "id": "41c53984",
   "metadata": {},
   "outputs": [],
   "source": [
    "%%bash\n",
    "stix-shifter transmit stix_bundle '{\"url\": \"'\"$BUNDLE_URL\"'\"}' \"$BUNDLE_AUTH\" results \\\n",
    "\"[ipv4-addr:value = '192.168.6.242'] START t'2021-06-01T11:36:21Z' STOP t'2021-06-20T11:36:21Z'\" 0 2\n"
   ]
  },
  {
   "cell_type": "markdown",
   "id": "49f1244e",
   "metadata": {},
   "source": [
    "## Step 7: Run the execute command\n",
    "Notice how the identity object, bundle URL and authentication, and STIX pattern are passed in. The result is a subset of observed-data objects from the original STIX bundle matching the pattern."
   ]
  },
  {
   "cell_type": "code",
   "execution_count": null,
   "id": "0a0ce7c6",
   "metadata": {},
   "outputs": [],
   "source": [
    "%%bash\n",
    "stix-shifter execute stix_bundle stix_bundle \"$IDENTITY_OBJECT\" '{\"url\": \"'\"$BUNDLE_URL\"'\"}' \\\n",
    "\"$BUNDLE_AUTH\" \"[ipv4-addr:value = '192.168.6.242'] START t'2021-06-01T11:36:21Z' STOP t'2021-06-20T11:36:21Z'\""
   ]
  },
  {
   "cell_type": "markdown",
   "id": "56507fe5",
   "metadata": {},
   "source": [
    "----------------------------------------------------------------------------------------------------------------------\n",
    "\n",
    "# Lab Exercise 2: Using CLI tools with the MySQL connector\n",
    "\n",
    "This connector relies on running a local or remote MySQL database. The transmission calls interface with the datasource using the source APIs, in this case [mysql.connector](https://github.com/opencybersecurityalliance/stix-shifter/blob/develop/stix_shifter_modules/mysql/stix_transmission/api_client.py#L1). This is different from the STIX bundle connector that searches against a static JSON of data."
   ]
  },
  {
   "cell_type": "markdown",
   "id": "6e8194e1",
   "metadata": {},
   "source": [
    "## Step 1: Install the required MySQL connector libraries"
   ]
  },
  {
   "cell_type": "code",
   "execution_count": null,
   "id": "718c2997",
   "metadata": {},
   "outputs": [],
   "source": [
    "%%bash\n",
    "pip install \\\n",
    "stix-shifter-modules-mysql \\\n",
    "mysql-connector-python"
   ]
  },
  {
   "cell_type": "markdown",
   "id": "da7fb10e",
   "metadata": {},
   "source": [
    "## Step 2: Set the environment variables to be used in the CLI\n",
    "\n",
    "### Connection details"
   ]
  },
  {
   "cell_type": "code",
   "execution_count": null,
   "id": "3d572932",
   "metadata": {},
   "outputs": [],
   "source": [
    "sql_database = \"demo_db\"\n",
    "sql_password = \"Giv3@m@n@fish\"\n",
    "sql_host = \"localhost\"\n",
    "table = \"demo_table\"\n",
    "sql_user = \"root\"\n",
    "%env MYSQL_CONNECTION_OBJECT {\"host\":\"localhost\", \"database\":\"demo_db\", \"options\":{\"table\":\"demo_table\"}}\n",
    "%env MYSQL_AUTH_OBJECT {\"auth\": {\"username\": \"root\", \"password\": \"Giv3@m@n@fish\"}}\n",
    "%env MYSQL_TABLE_OPTIONS {\"table\":\"demo_table\"}"
   ]
  },
  {
   "cell_type": "markdown",
   "id": "c3fd5d0a",
   "metadata": {},
   "source": [
    "### STIX Identity Object\n",
    "The identity object represents the data source the STIX results are taken from."
   ]
  },
  {
   "cell_type": "code",
   "execution_count": null,
   "id": "8dbde031",
   "metadata": {},
   "outputs": [],
   "source": [
    "%env MYSQL_IDENTITY_OBJECT \\\n",
    "{ \\\n",
    " \"type\":\"identity\", \\\n",
    " \"id\":\"identity--20a77a37-911e-468f-a165-28da7d02985b\", \\\n",
    " \"name\":\"MySQL Database\", \\\n",
    " \"identity_class\":\"system\", \\\n",
    " \"created\": \"2022-04-07T20:35:41.042Z\", \\\n",
    " \"modified\": \"2022-04-07T20:35:41.042Z\" \\\n",
    "}"
   ]
  },
  {
   "cell_type": "markdown",
   "id": "34956c4e",
   "metadata": {},
   "source": [
    "## Step 3: Create the demo database"
   ]
  },
  {
   "cell_type": "code",
   "execution_count": null,
   "id": "d5a31da3",
   "metadata": {},
   "outputs": [],
   "source": [
    "import mysql.connector \n",
    "\n",
    "cnx = mysql.connector.connect(user=sql_user, password=sql_password, \n",
    "                                       host=sql_host, port=3306, auth_plugin='mysql_native_password')\n",
    "cursor = cnx.cursor()\n",
    "\n",
    "sql = \"DROP DATABASE IF EXISTS {}\".format(sql_database)\n",
    "cursor.execute(sql)\n",
    "\n",
    "sql = \"CREATE DATABASE {}\".format(sql_database)\n",
    "cursor.execute(sql)\n",
    "\n",
    "cnx.close()"
   ]
  },
  {
   "cell_type": "markdown",
   "id": "08dc6541",
   "metadata": {},
   "source": [
    "## Step 4: Create and populate demo table"
   ]
  },
  {
   "cell_type": "code",
   "execution_count": null,
   "id": "fbce8f2e",
   "metadata": {},
   "outputs": [],
   "source": [
    "import mysql.connector\n",
    "import json\n",
    "import csv\n",
    "\n",
    "data_file = open(\"data.csv\")\n",
    "\n",
    "cnx = mysql.connector.connect(user=sql_user, password=sql_password, \n",
    "                                       host=sql_host, database=sql_database, \n",
    "                                       port=3306, auth_plugin='mysql_native_password')\n",
    "\n",
    "cursor = cnx.cursor()\n",
    "\n",
    "csv_reader = csv.reader(data_file, delimiter=',')\n",
    "csv_rows = []\n",
    "fields_list = []\n",
    "data_types_list = []\n",
    "\n",
    "sql = \"DROP TABLE IF EXISTS {}\".format(table)\n",
    "cursor.execute(sql)\n",
    "\n",
    "# Create table\n",
    "\n",
    "for row in csv_reader:\n",
    "    csv_rows.append(row)\n",
    "fields_list = csv_rows[0]\n",
    "data_types_list = csv_rows[1]\n",
    "\n",
    "fields_and_type = \"(\"\n",
    "for index, field in enumerate(fields_list):\n",
    "    fields_and_type += \"{} {}, \".format(field, data_types_list[index])\n",
    "fields_and_type = fields_and_type[:-2]\n",
    "fields_and_type += \")\"\n",
    "print(\"Creating table with the following fields: {}\".format(fields_list))\n",
    "sql = \"CREATE TABLE {} {};\".format(table, fields_and_type)\n",
    "cursor.execute(sql)\n",
    "\n",
    "# Populate table from CSV file\n",
    "\n",
    "print(\"Populating table with data\")\n",
    "sql_insert_parameters = (\"%s,\" * len(fields_list))[:-1]\n",
    "for index, row in enumerate(csv_rows):\n",
    "    if index < 2:\n",
    "        continue\n",
    "    sql = \"INSERT INTO {} ({}) VALUES ({})\".format(table, \", \".join(fields_list), sql_insert_parameters)\n",
    "    value_tuple = tuple(row)\n",
    "    cursor.execute(sql, value_tuple)\n",
    "    cnx.commit()\n",
    "    \n",
    "cnx.close()\n",
    "    \n"
   ]
  },
  {
   "cell_type": "markdown",
   "id": "eab57f00",
   "metadata": {},
   "source": [
    "## Step 5: Examine the demo table contents\n",
    "\n",
    "This will be the data the MySQL connector will query against."
   ]
  },
  {
   "cell_type": "code",
   "execution_count": null,
   "id": "9dfe87e1",
   "metadata": {},
   "outputs": [],
   "source": [
    "import mysql.connector\n",
    "import json\n",
    "\n",
    "\n",
    "cnx = mysql.connector.connect(user=sql_user, password=sql_password, \n",
    "                                       host=sql_host, database=sql_database, \n",
    "                                       port=3306, auth_plugin='mysql_native_password')\n",
    "\n",
    "cursor = cnx.cursor()\n",
    "\n",
    "column_query = \"SHOW COLUMNS FROM %s\" % table\n",
    "cursor.execute(column_query)\n",
    "column_collection = cursor.fetchall()\n",
    "column_list = []\n",
    "\n",
    "for tuple in column_collection:\n",
    "    column_list.append(tuple[0])\n",
    "\n",
    "\n",
    "sql = \"SELECT * FROM {}\".format(table)\n",
    "cursor.execute(sql)\n",
    "\n",
    "result_collection = cursor.fetchall()\n",
    "\n",
    "results_list = []\n",
    "\n",
    "# Max number of rows to return in results\n",
    "row_count = 100\n",
    "\n",
    "# Put table data in JSON format\n",
    "for index, tuple in enumerate(result_collection):\n",
    "    if index < 0:\n",
    "        continue\n",
    "    if row_count < 1:\n",
    "        break\n",
    "    results_object = {}\n",
    "    for index, datum in enumerate(tuple):\n",
    "        results_object[column_list[index]] = datum\n",
    "    results_list.append(results_object)\n",
    "    row_count -= 1\n",
    "\n",
    "print(json.dumps(results_list, indent=2))\n",
    "    \n",
    "cnx.close()\n",
    "    "
   ]
  },
  {
   "cell_type": "markdown",
   "id": "43e69765",
   "metadata": {},
   "source": [
    "## Step 6: Transmit the ping command\n",
    "The `ping` command will check that the connector can talk to the MySQL instance."
   ]
  },
  {
   "cell_type": "code",
   "execution_count": null,
   "id": "79f0cfe7",
   "metadata": {},
   "outputs": [],
   "source": [
    "%%bash\n",
    "stix-shifter transmit mysql \"$MYSQL_CONNECTION_OBJECT\" \"$MYSQL_AUTH_OBJECT\" ping\n"
   ]
  },
  {
   "cell_type": "markdown",
   "id": "667963a0",
   "metadata": {},
   "source": [
    "## Step 7: Translate a STIX pattern into a native SQL query\n",
    "\n",
    "Translation from a STIX pattern to a native query is controlled by a `from_stix.json` mapping file. A snippet of the [MySQL from-STIX mapping file](https://github.com/opencybersecurityalliance/stix-shifter/blob/develop/stix_shifter_modules/mysql/stix_translation/json/from_stix_map.json) shows:\n",
    "\n",
    "```json\n",
    "  \"url\": {\n",
    "    \"fields\": {\n",
    "      \"value\": [\"url\"]\n",
    "    }\n",
    "  },\n",
    "  \"file\": {\n",
    "    \"fields\": {\n",
    "       \"name\": [\"filename\"],\n",
    "       \"hashes.'SHA-256'\": [\"sha256hash\"],\n",
    "       \"hashes.MD5\": [\"md5hash\"],\n",
    "       \"parent_directory_ref.path\": [\"file_path\"],\n",
    "       \"created\": [\"file_created_time\"],\n",
    "       \"modified\": [\"file_modified_time\"],\n",
    "       \"accessed\": [\"file_accessed_time\"]\n",
    "    }\n",
    "  }\n",
    "```\n",
    "The outer key is the STIX object and the `fields` attribute contains a dictionary of STIX properties for that object. Each property is associated to a list of native data source fields. Using the following STIX pattern as an example:\n",
    "\n",
    "`[file:name = 'myfile.exe']`\n",
    "\n",
    "The connector would translate this into SQL query against the `filename` column in the table.\n",
    "\n",
    "The CLI input format for pattern translation is `translate <connector type> query <identity object> <STIX pattern> <options>`. The MySQL connector requires that the table name be passed in the options. The translate query command returns a list of native query strings; in this case a list of SQL statements.\n",
    "\n",
    "Below you will see that several STIX patterns are stored in an environment variable. Try running each one at a time followed by the translate query command and see how each pattern is translated into a SQL query."
   ]
  },
  {
   "cell_type": "markdown",
   "id": "5b1b2c69",
   "metadata": {},
   "source": [
    "### STIX Pattern 1: Searching for a URL"
   ]
  },
  {
   "cell_type": "code",
   "execution_count": null,
   "id": "a22e96dc",
   "metadata": {},
   "outputs": [],
   "source": [
    "%env STIX_PATTERN=[url:value = 'www.example.org']"
   ]
  },
  {
   "cell_type": "code",
   "execution_count": null,
   "id": "f1800cd8",
   "metadata": {},
   "outputs": [],
   "source": [
    "%%bash\n",
    "stix-shifter translate mysql query \"$MYSQL_IDENTITY_OBJECT\" \"$STIX_PATTERN\" \"$MYSQL_TABLE_OPTIONS\""
   ]
  },
  {
   "cell_type": "markdown",
   "id": "05f76c6e",
   "metadata": {},
   "source": [
    "### STIX Pattern 2: Searching for an IP address with a time range"
   ]
  },
  {
   "cell_type": "code",
   "execution_count": null,
   "id": "73e3930f",
   "metadata": {},
   "outputs": [],
   "source": [
    "%env STIX_PATTERN=[ipv4-addr:value = '10.0.0.9'] START t'2019-01-28T12:24:01.009Z' STOP t'2019-01-28T12:54:01.009Z'"
   ]
  },
  {
   "cell_type": "code",
   "execution_count": null,
   "id": "5520cf09",
   "metadata": {},
   "outputs": [],
   "source": [
    "%%bash\n",
    "stix-shifter translate mysql query \"$MYSQL_IDENTITY_OBJECT\" \"$STIX_PATTERN\" \"$MYSQL_TABLE_OPTIONS\""
   ]
  },
  {
   "cell_type": "markdown",
   "id": "caf202e1",
   "metadata": {},
   "source": [
    "Note how `ipv4-addr:value` is translated into \n",
    "\n",
    "```\n",
    "WHERE (source_ipaddr = '10.0.0.9' OR dest_ipaddr = '10.0.0.9')\n",
    "```\n",
    "This is because both `source_ipaddr` and `dest_ipaddr` are [mapped](https://github.com/opencybersecurityalliance/stix-shifter/blob/develop/stix_shifter_modules/mysql/stix_translation/json/from_stix_map.json#L2) to the `value` property for the `ipv4-addr` STIX object:\n",
    "\n",
    "```json\n",
    "\"ipv4-addr\": {\n",
    "    \"fields\": {\n",
    "      \"value\": [\"source_ipaddr\", \"dest_ipaddr\"]\n",
    "    }\n",
    "}\n",
    "```\n",
    "Also notice the **START STOP** qualifiers at the end of the STIX pattern `START t'2019-01-28T12:24:01.009Z' STOP t'2019-01-28T12:54:01.009Z'`. These act as a time range filter and get translated to `AND (entry_time >= 1548678241009 AND entry_time <= 1548680041009)` on the SQL query."
   ]
  },
  {
   "cell_type": "markdown",
   "id": "f8e6c901",
   "metadata": {},
   "source": [
    "### STIX Pattern 3: Searching for an MD5 file hash"
   ]
  },
  {
   "cell_type": "code",
   "execution_count": null,
   "id": "d1754d9d",
   "metadata": {},
   "outputs": [],
   "source": [
    "%env STIX_PATTERN=[file:hashes.MD5 = 'edbe588a5881726e9bc41332ee330c72']"
   ]
  },
  {
   "cell_type": "code",
   "execution_count": null,
   "id": "f799598e",
   "metadata": {},
   "outputs": [],
   "source": [
    "%%bash\n",
    "stix-shifter translate mysql query \"$MYSQL_IDENTITY_OBJECT\" \"$STIX_PATTERN\" \"$MYSQL_TABLE_OPTIONS\""
   ]
  },
  {
   "cell_type": "markdown",
   "id": "b0e4fb58",
   "metadata": {},
   "source": [
    "### STIX Pattern 4: Searching for only an unmapped property\n",
    "The below example submits a STIX pattern that contains properties not mapped to any fields in the demo_table schema."
   ]
  },
  {
   "cell_type": "code",
   "execution_count": null,
   "id": "8dd6df23",
   "metadata": {},
   "outputs": [],
   "source": [
    "%env STIX_PATTERN=[url:fake_property = 'I do not exist']"
   ]
  },
  {
   "cell_type": "code",
   "execution_count": null,
   "id": "5db77a69",
   "metadata": {},
   "outputs": [],
   "source": [
    "%%bash\n",
    "stix-shifter translate mysql query \"$MYSQL_IDENTITY_OBJECT\" \"$STIX_PATTERN\" \"$MYSQL_TABLE_OPTIONS\""
   ]
  },
  {
   "cell_type": "markdown",
   "id": "2d1fad86",
   "metadata": {},
   "source": [
    "Note the `Unable to map` error that is returned. Examine the [from_stix_map.json](https://github.com/opencybersecurityalliance/stix-shifter/blob/develop/stix_shifter_modules/mysql/stix_translation/json/from_stix_map.json) file and you will see that the `url:fake_property` STIX object is not mapped to any SQL fields. A pattern that only contains unmapped properties will return this error. "
   ]
  },
  {
   "cell_type": "markdown",
   "id": "74d66e7f",
   "metadata": {},
   "source": [
    "### STIX Pattern 5: Searching for both an unmapped and mapped property\n",
    "STIX-shifter will strip out unmapped properties from the pattern and attempt to create a native query if logically possible. See the example below:"
   ]
  },
  {
   "cell_type": "code",
   "execution_count": null,
   "id": "eecb3796",
   "metadata": {},
   "outputs": [],
   "source": [
    "%env STIX_PATTERN=[url:fake_property = 'I do not exist' OR ipv4-addr:value = '10.0.0.9']"
   ]
  },
  {
   "cell_type": "code",
   "execution_count": null,
   "id": "1c2c995c",
   "metadata": {},
   "outputs": [],
   "source": [
    "%%bash\n",
    "stix-shifter translate mysql query \"$MYSQL_IDENTITY_OBJECT\" \"$STIX_PATTERN\" \"$MYSQL_TABLE_OPTIONS\""
   ]
  },
  {
   "cell_type": "markdown",
   "id": "25182658",
   "metadata": {},
   "source": [
    "The translated query has stripped out the unmapped property and still searches for the ip address because an `OR` operator is being used in the pattern, so a native query can still be logically created. If an `AND` operator was used instead, we would have gotten an `Unable to map` error like the example above..\n",
    "\n",
    "Examine the [from_stix_map.json](https://github.com/opencybersecurityalliance/stix-shifter/blob/develop/stix_shifter_modules/mysql/stix_translation/json/from_stix_map.json) file and experiement translating other patterns."
   ]
  },
  {
   "cell_type": "markdown",
   "id": "16e603af",
   "metadata": {},
   "source": [
    "## Step 8: Transmit the query command\n",
    "The `query` command sends the native query to the data source."
   ]
  },
  {
   "cell_type": "code",
   "execution_count": null,
   "id": "5aa7ece9",
   "metadata": {},
   "outputs": [],
   "source": [
    "%%bash\n",
    "stix-shifter transmit mysql \"$MYSQL_CONNECTION_OBJECT\" \"$MYSQL_AUTH_OBJECT\" query \"SELECT * FROM demo_table WHERE url = 'www.example.org' limit 10000\"\n"
   ]
  },
  {
   "cell_type": "markdown",
   "id": "278f6a1e",
   "metadata": {},
   "source": [
    "Note how the search_id that is returned is just the query string that was submitted. This is because the MySQL connector is synchronous. If this was an asynchronous connector, a search ID from the query API would have been returned instead."
   ]
  },
  {
   "cell_type": "markdown",
   "id": "fa444815",
   "metadata": {},
   "source": [
    "## Step 9: Transmit the status command\n",
    "\n",
    "The `status` command passes in the search ID, in this case the query string, and returns the status of the search."
   ]
  },
  {
   "cell_type": "code",
   "execution_count": null,
   "id": "9e82766b",
   "metadata": {},
   "outputs": [],
   "source": [
    "%%bash\n",
    "stix-shifter transmit mysql \"$MYSQL_CONNECTION_OBJECT\" \"$MYSQL_AUTH_OBJECT\" status \"SELECT * FROM demo_table WHERE url = 'www.example.org' limit 10000\"\n"
   ]
  },
  {
   "cell_type": "markdown",
   "id": "2fd0c37e",
   "metadata": {},
   "source": [
    "## Step 10: Transmit the results command\n",
    "\n",
    "The `results` command returns the raw query results in JSON format. In addition to the query ID (for MySQL this would be the query string) an offset and length is passed into the CLI command. The example below passes in 1 and 2, this would mean that the results start at the first row, returning two rows in total."
   ]
  },
  {
   "cell_type": "code",
   "execution_count": null,
   "id": "8244d828",
   "metadata": {},
   "outputs": [],
   "source": [
    "%%bash\n",
    "stix-shifter transmit mysql \"$MYSQL_CONNECTION_OBJECT\" \"$MYSQL_AUTH_OBJECT\" results \"SELECT * FROM demo_table WHERE url = 'www.example.org' limit 10000\" 1 2\n"
   ]
  },
  {
   "cell_type": "markdown",
   "id": "e66e9fe6",
   "metadata": {},
   "source": [
    "Notice that a list of JSON objects are returned. This is required by STIX-shifter before it can translate the results into STIX. If the data source API does not return JSON results, the results transmission logic will need to conver the results into JSON."
   ]
  },
  {
   "cell_type": "markdown",
   "id": "28cd409a",
   "metadata": {},
   "source": [
    "## Step 11: Translate the query results into STIX\n",
    "\n",
    "Similar to translating STIX patterns to native queries, translating JSON results to STIX is largely driven by the connector's `to_stix_map.json` file. A snippet of the [MySQL to-STIX mapping file](https://github.com/opencybersecurityalliance/stix-shifter/blob/develop/stix_shifter_modules/mysql/stix_translation/json/to_stix_map.json) is shown below:\n",
    "\n",
    "```json\n",
    "{\n",
    "  \"username\": [\n",
    "    {\n",
    "      \"key\": \"user-account.user_id\",\n",
    "      \"object\": \"useraccount\"\n",
    "    }\n",
    "  ],\n",
    "  \"displayname\": [\n",
    "    {\n",
    "      \"key\": \"user-account.display_name\",\n",
    "      \"object\": \"useraccount\"\n",
    "    }\n",
    "  ],\n",
    "  \"filename\": [\n",
    "    {\n",
    "      \"key\": \"file.name\",\n",
    "      \"object\": \"fl\"\n",
    "    },\n",
    "    {\n",
    "      \"key\": \"process.binary_ref\",\n",
    "      \"object\": \"process\",\n",
    "      \"references\": \"fl\"\n",
    "    }\n",
    "  ]\n",
    "}\n",
    "```\n",
    "The mapping is the reverse of what we saw with the from-STIX map. The outer keys are the field names returned in the query results and the values contain a list of properties: \n",
    "1. The `\"key\"` property contains the STIX object and property that the data source field maps to. In the example above, data from the `username` field would be written to the STIX `user-account:user_id` property.\n",
    "2. The `\"object\"` property allows multiple properties to be grouped under the same STIX object. In the example above, data from the `username` and `displayname` fields would be written to the same `useraccount` STIX object under the `user_id` and `display_name` properties respecitvely. \n",
    "3. The `filename` field is mapping to multiple STIX objects. The data in the file name is written to the STIX `file:name` property. When a `filename` is encountered in the results, it also creates a reference between to the STIX `file` object (note the `\"object\": \"fl\"`) from an existing process object under `process:binary_ref`.\n",
    "\n",
    "### Load the sample results we wish to translate"
   ]
  },
  {
   "cell_type": "code",
   "execution_count": null,
   "id": "2876a76b",
   "metadata": {},
   "outputs": [],
   "source": [
    "%env MYSQL_RESULTS \\\n",
    "[ \\\n",
    "   { \\\n",
    "      \"source_ipaddr\": \"10.0.0.9\", \\\n",
    "      \"dest_ipaddr\": \"10.0.0.9\", \\\n",
    "      \"url\": \"www.example.org\", \\\n",
    "      \"filename\": \"spreadsheet.doc\", \\\n",
    "      \"sha256hash\": \"b0795d1f264efa26bf464612a95bba710c10d3de594d888b6282c48f15690459\", \\\n",
    "      \"md5hash\": \"0a556fbb7d3c184fad0a625afccd2b62\", \\\n",
    "      \"file_path\": \"C:/PHOTOS\", \\\n",
    "      \"username\": \"root\",\\\n",
    "      \"source_port\": 143, \\\n",
    "      \"dest_port\": 8080, \\\n",
    "      \"protocol\": \"udp\", \\\n",
    "      \"entry_time\": 1617123877.0, \\\n",
    "      \"system_name\": \"demo_system\", \\\n",
    "      \"severity\": 2, \\\n",
    "      \"magnitude\": 1 \\\n",
    "   } \\\n",
    "]"
   ]
  },
  {
   "cell_type": "markdown",
   "id": "f2d7d9b9",
   "metadata": {},
   "source": [
    "### Translate the results into STIX"
   ]
  },
  {
   "cell_type": "code",
   "execution_count": null,
   "id": "85a0a007",
   "metadata": {},
   "outputs": [],
   "source": [
    "%%bash\n",
    "stix-shifter translate mysql results \"$MYSQL_IDENTITY_OBJECT\" \"$MYSQL_RESULTS\" \"$MYSQL_TABLE_OPTIONS\"\n"
   ]
  },
  {
   "cell_type": "markdown",
   "id": "cc1ed395",
   "metadata": {},
   "source": [
    "Since only one row was in the sample results, only one observed data object is returned in the bundle. As mentioned before, the identity object is inserted at the top of the bundle and represents the data source the results are coming from; note how the observed-data object has a `created_by_ref` property that references the identity object by its ID.\n",
    "\n",
    "The observed-data object has an `objects` property that contains a numbered dictionary of cyber observable (cybox) objects. The properties of these cybox objects hold the data returned from the query based on the to-STIX mapping. The sample data had the value `spreadsheet.doc` stored in the `filename` field. You can see how that was written to the `name` property of the `file` STIX object.\n",
    "\n",
    "The translated STIX shows how referencing works. The `network-traffic` object has a `src_ref` and `dst_ref` property, each pointing to the numbered key for a `ipv4-addr` object in the same `observed-data` object.\n",
    "\n",
    "Experiment with editing the field names and data in the below sample data and try translating it again to see the results. If you rename a field, like changing `filename` to `RENAMED_filename`, you will see that it's data no longer appears in the STIX results. This is because the new field name is not represented in the [to_stix_map.json](https://github.com/opencybersecurityalliance/stix-shifter/blob/develop/stix_shifter_modules/mysql/stix_translation/json/to_stix_map.json) mapping."
   ]
  },
  {
   "cell_type": "code",
   "execution_count": null,
   "id": "4f58f237",
   "metadata": {},
   "outputs": [],
   "source": [
    "%env MYSQL_RESULTS \\\n",
    "[ \\\n",
    "   { \\\n",
    "      \"source_ipaddr\": \"10.0.0.9\", \\\n",
    "      \"dest_ipaddr\": \"10.0.0.9\", \\\n",
    "      \"url\": \"www.example.org\", \\\n",
    "      \"sha256hash\": \"b0795d1f264efa26bf464612a95bba710c10d3de594d888b6282c48f15690459\", \\\n",
    "      \"md5hash\": \"0a556fbb7d3c184fad0a625afccd2b62\", \\\n",
    "      \"file_path\": \"C:/PHOTOS\", \\\n",
    "      \"username\": \"root\", \\\n",
    "      \"RENAMED_filename\": \"blah.jpg\", \\\n",
    "      \"source_port\": 143, \\\n",
    "      \"dest_port\": 8080, \\\n",
    "      \"protocol\": \"udp\", \\\n",
    "      \"entry_time\": 1617123877.0, \\\n",
    "      \"system_name\": \"demo_system\", \\\n",
    "      \"severity\": 2, \\\n",
    "      \"magnitude\": 1 \\\n",
    "   } \\\n",
    "]"
   ]
  },
  {
   "cell_type": "code",
   "execution_count": null,
   "id": "757dd4db",
   "metadata": {},
   "outputs": [],
   "source": [
    "%%bash\n",
    "stix-shifter translate mysql results \"$MYSQL_IDENTITY_OBJECT\" \"$MYSQL_RESULTS\" \"$MYSQL_TABLE_OPTIONS\""
   ]
  },
  {
   "cell_type": "markdown",
   "id": "693c0773",
   "metadata": {},
   "source": [
    "## Step 12: Run the execute command against the MySQL connector\n",
    "\n",
    "We did this before for the bundle connector. The execute command will run through each of the translation and transmission steps covered above and return a bundle of STIX results. The STIX results are based on the pattern that is passed in. The format for calling the execute command is:\n",
    "```\n",
    "stix-shifter execute <CONNECTOR NAME> <CONNECTOR NAME> <IDENTITY OBJECT> <CONNECTION OBJECT> \n",
    "<AUTH OBJECT> <STIX PATTERN> <OPTIONS>\n",
    "```\n",
    "The connector name is repeated twice to allow for the possiblity of using different modules for translation and transmission."
   ]
  },
  {
   "cell_type": "code",
   "execution_count": null,
   "id": "12c0bc97",
   "metadata": {},
   "outputs": [],
   "source": [
    "%env STIX_PATTERN=[url:value = 'www.example.org']"
   ]
  },
  {
   "cell_type": "code",
   "execution_count": null,
   "id": "28b6240d",
   "metadata": {},
   "outputs": [],
   "source": [
    "%%bash\n",
    "stix-shifter execute mysql mysql \"$MYSQL_IDENTITY_OBJECT\" \"$MYSQL_CONNECTION_OBJECT\" \"$MYSQL_AUTH_OBJECT\" \"$STIX_PATTERN\""
   ]
  }
 ],
 "metadata": {
  "kernelspec": {
   "display_name": "labenv",
   "language": "python",
   "name": "labenv"
  },
  "language_info": {
   "codemirror_mode": {
    "name": "ipython",
    "version": 3
   },
   "file_extension": ".py",
   "mimetype": "text/x-python",
   "name": "python",
   "nbconvert_exporter": "python",
   "pygments_lexer": "ipython3",
   "version": "3.6.11"
  },
  "vscode": {
   "interpreter": {
    "hash": "f3502a7b96999c043d33f48856eab8d61ec3fa3cf2d4f6b6e0ae39bc34297855"
   }
  }
 },
 "nbformat": 4,
 "nbformat_minor": 5
}
