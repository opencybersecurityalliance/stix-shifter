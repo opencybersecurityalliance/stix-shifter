{
 "cells": [
  {
   "cell_type": "markdown",
   "id": "9e68b07c",
   "metadata": {},
   "source": [
    "# Setup\n",
    "## Prerequisites\n",
    "* Python 3\n",
    "* pip\n",
    "* venv\n",
    "* Ability to run bash commands\n",
    "1. Open a terminal and install a Python Virtual Environment\n",
    "\n",
    "`python3 -m venv labenv`\n",
    "\n",
    "`source labenv/bin/activate` Do I need to create this in Jupyter?\n",
    "\n",
    "2. Install jupyter notebook\n",
    "`pip install notebook`\n",
    "\n",
    "3. Run jupyter notebook\n",
    "`jupyter notebook`"
   ]
  },
  {
   "cell_type": "markdown",
   "id": "347e7f76",
   "metadata": {},
   "source": [
    "### Fork repo, clone project, create working branch"
   ]
  },
  {
   "cell_type": "markdown",
   "id": "523d4cd8",
   "metadata": {},
   "source": [
    "### Clone the STIX-Shifter Project"
   ]
  },
  {
   "cell_type": "code",
   "execution_count": 34,
   "id": "cab2798e",
   "metadata": {
    "scrolled": true
   },
   "outputs": [
    {
     "name": "stderr",
     "output_type": "stream",
     "text": [
      "Cloning into 'stix-shifter'...\n"
     ]
    }
   ],
   "source": [
    "%%bash\n",
    "if [ ! -d \"stix-shifter\" ]\n",
    "then\n",
    "    git clone https://github.com/delliott90/stix-shifter.git\n",
    "else\n",
    "    echo \"STIX-Shifter project has already been cloned\"\n",
    "fi\n",
    "# git clone https://github.com/delliott90/stix-shifter.git"
   ]
  },
  {
   "cell_type": "markdown",
   "id": "00b77153",
   "metadata": {},
   "source": [
    "### Create environment variables for the project path"
   ]
  },
  {
   "cell_type": "code",
   "execution_count": 35,
   "id": "97e5ec3b",
   "metadata": {},
   "outputs": [
    {
     "name": "stdout",
     "output_type": "stream",
     "text": [
      "env: STIX_SHIFTER_PATH=/Users/danny.elliott.ibm.com/Documents/IBM_Documents/jupyter/stix-shifter\n",
      "env: IDENTITY_OBJECT={\"type\":\"identity\",\"id\":\"identity--f431f809-377b-45e0-aa1c-6a4751cae5ff\",\"name\":\"STIX Demo\",\"identity_class\":\"system\", \"created\": \"2022-04-07T20:35:41.042Z\", \"modified\": \"2022-04-07T20:35:41.042Z\"}\n"
     ]
    }
   ],
   "source": [
    "%env STIX_SHIFTER_PATH /Users/danny.elliott.ibm.com/Documents/IBM_Documents/jupyter/stix-shifter\n",
    "%bookmark SS_PATH /Users/danny.elliott.ibm.com/Documents/IBM_Documents/jupyter/stix-shifter\n",
    "%env IDENTITY_OBJECT {\"type\":\"identity\",\"id\":\"identity--f431f809-377b-45e0-aa1c-6a4751cae5ff\",\"name\":\"STIX Demo\",\"identity_class\":\"system\", \"created\": \"2022-04-07T20:35:41.042Z\", \"modified\": \"2022-04-07T20:35:41.042Z\"}\n"
   ]
  },
  {
   "cell_type": "markdown",
   "id": "b9f742de",
   "metadata": {},
   "source": [
    "### Generate required libraries used by STIX-Shifter"
   ]
  },
  {
   "cell_type": "code",
   "execution_count": 36,
   "id": "b36fc48e",
   "metadata": {
    "scrolled": true
   },
   "outputs": [
    {
     "name": "stdout",
     "output_type": "stream",
     "text": [
      "requirements_files: ['stix_shifter/requirements.txt', 'stix_shifter_modules/onelogin/requirements.txt', 'stix_shifter_modules/reversinglabs/requirements.txt', 'stix_shifter_modules/mysql/requirements.txt', 'stix_shifter_modules/mysql/stix_translation/json/stix-shifter/stix_shifter_modules/onelogin/requirements.txt', 'stix_shifter_modules/mysql/stix_translation/json/stix-shifter/stix_shifter_modules/reversinglabs/requirements.txt', 'stix_shifter_modules/mysql/stix_translation/json/stix-shifter/stix_shifter_modules/mysql/requirements.txt', 'stix_shifter_modules/mysql/stix_translation/json/stix-shifter/stix_shifter_modules/datadog/requirements.txt', 'stix_shifter_modules/mysql/stix_translation/json/stix-shifter/stix_shifter_modules/sumologic/requirements.txt', 'stix_shifter_modules/mysql/stix_translation/json/stix-shifter/stix_shifter/requirements.txt', 'stix_shifter_modules/datadog/requirements.txt', 'stix_shifter_modules/sumologic/requirements.txt']\n",
      "install_requires: ['adal==1.2.7', 'antlr4-python3-runtime==4.8', 'boto3==1.21.21', 'colorlog==6.6.0', 'datadog_api_client==1.2.0', 'flask==2.0.3', 'flatten_json==0.1.13', 'jsonmerge==1.8.0', 'mysql-connector-python==8.0.25', 'onelogin==2.0.1', 'pyOpenSSL==21.0.0', 'python-dateutil==2.8.2', 'requests_toolbelt==0.9.1', 'stix2-matcher==3.0.0', 'stix2-patterns==1.3.2', 'stix2-validator==3.0.2', 'sumologic-sdk==0.1.13', 'uuid==1.30', 'xmltodict==0.13.0']\n"
     ]
    },
    {
     "name": "stderr",
     "output_type": "stream",
     "text": [
      "DEPRECATION: Configuring installation scheme with distutils config files is deprecated and will no longer work in the near future. If you are using a Homebrew or Linuxbrew Python, please see discussion at https://github.com/Homebrew/homebrew-core/issues/76621\n"
     ]
    },
    {
     "name": "stdout",
     "output_type": "stream",
     "text": [
      "Looking in indexes: https://pypi.org/simple, https://pypi.org/simple\n",
      "Requirement already satisfied: adal==1.2.7 in /usr/local/lib/python3.9/site-packages (from -r requirements.txt (line 1)) (1.2.7)\n",
      "Requirement already satisfied: antlr4-python3-runtime==4.8 in /usr/local/lib/python3.9/site-packages (from -r requirements.txt (line 2)) (4.8)\n",
      "Requirement already satisfied: boto3==1.21.21 in /usr/local/lib/python3.9/site-packages (from -r requirements.txt (line 3)) (1.21.21)\n",
      "Requirement already satisfied: colorlog==6.6.0 in /usr/local/lib/python3.9/site-packages (from -r requirements.txt (line 4)) (6.6.0)\n",
      "Requirement already satisfied: datadog_api_client==1.2.0 in /usr/local/lib/python3.9/site-packages (from -r requirements.txt (line 5)) (1.2.0)\n",
      "Requirement already satisfied: flask==2.0.3 in /usr/local/lib/python3.9/site-packages (from -r requirements.txt (line 6)) (2.0.3)\n",
      "Requirement already satisfied: flatten_json==0.1.13 in /usr/local/lib/python3.9/site-packages (from -r requirements.txt (line 7)) (0.1.13)\n",
      "Requirement already satisfied: jsonmerge==1.8.0 in /usr/local/lib/python3.9/site-packages (from -r requirements.txt (line 8)) (1.8.0)\n",
      "Requirement already satisfied: mysql-connector-python==8.0.25 in /usr/local/lib/python3.9/site-packages (from -r requirements.txt (line 9)) (8.0.25)\n",
      "Requirement already satisfied: onelogin==2.0.1 in /usr/local/lib/python3.9/site-packages (from -r requirements.txt (line 10)) (2.0.1)\n",
      "Requirement already satisfied: pyOpenSSL==21.0.0 in /usr/local/lib/python3.9/site-packages (from -r requirements.txt (line 11)) (21.0.0)\n",
      "Requirement already satisfied: python-dateutil==2.8.2 in /usr/local/lib/python3.9/site-packages (from -r requirements.txt (line 12)) (2.8.2)\n",
      "Requirement already satisfied: requests_toolbelt==0.9.1 in /usr/local/lib/python3.9/site-packages (from -r requirements.txt (line 13)) (0.9.1)\n",
      "Requirement already satisfied: stix2-matcher==3.0.0 in /usr/local/lib/python3.9/site-packages (from -r requirements.txt (line 14)) (3.0.0)\n",
      "Requirement already satisfied: stix2-patterns==1.3.2 in /usr/local/lib/python3.9/site-packages (from -r requirements.txt (line 15)) (1.3.2)\n",
      "Requirement already satisfied: stix2-validator==3.0.2 in /usr/local/lib/python3.9/site-packages (from -r requirements.txt (line 16)) (3.0.2)\n",
      "Requirement already satisfied: sumologic-sdk==0.1.13 in /usr/local/lib/python3.9/site-packages (from -r requirements.txt (line 17)) (0.1.13)\n",
      "Requirement already satisfied: uuid==1.30 in /usr/local/lib/python3.9/site-packages (from -r requirements.txt (line 18)) (1.30)\n",
      "Requirement already satisfied: xmltodict==0.13.0 in /usr/local/lib/python3.9/site-packages (from -r requirements.txt (line 19)) (0.13.0)\n",
      "Requirement already satisfied: astroid==1.6.2 in /usr/local/lib/python3.9/site-packages (from -r requirements-dev.txt (line 2)) (1.6.2)\n",
      "Requirement already satisfied: attrs==17.4.0 in /usr/local/lib/python3.9/site-packages (from -r requirements-dev.txt (line 3)) (17.4.0)\n",
      "Requirement already satisfied: autopep8==1.3.4 in /usr/local/lib/python3.9/site-packages (from -r requirements-dev.txt (line 4)) (1.3.4)\n",
      "Requirement already satisfied: coverage==4.5.1 in /usr/local/lib/python3.9/site-packages (from -r requirements-dev.txt (line 5)) (4.5.1)\n",
      "Requirement already satisfied: flake8==3.5.0 in /usr/local/lib/python3.9/site-packages (from -r requirements-dev.txt (line 6)) (3.5.0)\n",
      "Requirement already satisfied: isort==4.3.4 in /usr/local/lib/python3.9/site-packages (from -r requirements-dev.txt (line 7)) (4.3.4)\n",
      "Requirement already satisfied: lazy-object-proxy==1.3.1 in /usr/local/lib/python3.9/site-packages (from -r requirements-dev.txt (line 8)) (1.3.1)\n",
      "Requirement already satisfied: mccabe==0.6.1 in /usr/local/lib/python3.9/site-packages (from -r requirements-dev.txt (line 9)) (0.6.1)\n",
      "Requirement already satisfied: more-itertools==4.1.0 in /usr/local/lib/python3.9/site-packages (from -r requirements-dev.txt (line 10)) (4.1.0)\n",
      "Requirement already satisfied: pluggy==0.6.0 in /usr/local/lib/python3.9/site-packages (from -r requirements-dev.txt (line 11)) (0.6.0)\n",
      "Requirement already satisfied: py==1.10.0 in /usr/local/lib/python3.9/site-packages (from -r requirements-dev.txt (line 12)) (1.10.0)\n",
      "Requirement already satisfied: pycodestyle==2.3.1 in /usr/local/lib/python3.9/site-packages (from -r requirements-dev.txt (line 13)) (2.3.1)\n",
      "Requirement already satisfied: pyflakes==1.6.0 in /usr/local/lib/python3.9/site-packages (from -r requirements-dev.txt (line 14)) (1.6.0)\n",
      "Requirement already satisfied: pylint==1.8.3 in /usr/local/lib/python3.9/site-packages (from -r requirements-dev.txt (line 15)) (1.8.3)\n",
      "Requirement already satisfied: pytest==3.5.0 in /usr/local/lib/python3.9/site-packages (from -r requirements-dev.txt (line 16)) (3.5.0)\n",
      "Requirement already satisfied: pytest-cov==2.5.1 in /usr/local/lib/python3.9/site-packages (from -r requirements-dev.txt (line 17)) (2.5.1)\n",
      "Requirement already satisfied: six==1.11.0 in /usr/local/lib/python3.9/site-packages (from -r requirements-dev.txt (line 18)) (1.11.0)\n",
      "Requirement already satisfied: wrapt==1.10.11 in /usr/local/lib/python3.9/site-packages (from -r requirements-dev.txt (line 19)) (1.10.11)\n",
      "Requirement already satisfied: requests_mock==1.7.0 in /usr/local/lib/python3.9/site-packages (from -r requirements-dev.txt (line 20)) (1.7.0)\n",
      "Requirement already satisfied: requests<3,>=2.0.0 in /usr/local/lib/python3.9/site-packages (from adal==1.2.7->-r requirements.txt (line 1)) (2.28.1)\n",
      "Requirement already satisfied: cryptography>=1.1.0 in /usr/local/lib/python3.9/site-packages (from adal==1.2.7->-r requirements.txt (line 1)) (37.0.4)\n",
      "Requirement already satisfied: PyJWT<3,>=1.0.0 in /usr/local/lib/python3.9/site-packages (from adal==1.2.7->-r requirements.txt (line 1)) (2.4.0)\n",
      "Requirement already satisfied: botocore<1.25.0,>=1.24.21 in /usr/local/lib/python3.9/site-packages (from boto3==1.21.21->-r requirements.txt (line 3)) (1.24.46)\n",
      "Requirement already satisfied: s3transfer<0.6.0,>=0.5.0 in /usr/local/lib/python3.9/site-packages (from boto3==1.21.21->-r requirements.txt (line 3)) (0.5.2)\n",
      "Requirement already satisfied: jmespath<2.0.0,>=0.7.1 in /usr/local/lib/python3.9/site-packages (from boto3==1.21.21->-r requirements.txt (line 3)) (1.0.1)\n",
      "Requirement already satisfied: certifi in /usr/local/lib/python3.9/site-packages (from datadog_api_client==1.2.0->-r requirements.txt (line 5)) (2022.6.15)\n",
      "Requirement already satisfied: urllib3>=1.15 in /usr/local/lib/python3.9/site-packages (from datadog_api_client==1.2.0->-r requirements.txt (line 5)) (1.26.11)\n",
      "Requirement already satisfied: click>=7.1.2 in /usr/local/lib/python3.9/site-packages (from flask==2.0.3->-r requirements.txt (line 6)) (8.1.3)\n",
      "Requirement already satisfied: Jinja2>=3.0 in /usr/local/lib/python3.9/site-packages (from flask==2.0.3->-r requirements.txt (line 6)) (3.1.2)\n",
      "Requirement already satisfied: itsdangerous>=2.0 in /usr/local/lib/python3.9/site-packages (from flask==2.0.3->-r requirements.txt (line 6)) (2.1.2)\n",
      "Requirement already satisfied: Werkzeug>=2.0 in /usr/local/lib/python3.9/site-packages (from flask==2.0.3->-r requirements.txt (line 6)) (2.2.2)\n",
      "Requirement already satisfied: jsonschema in /usr/local/lib/python3.9/site-packages (from jsonmerge==1.8.0->-r requirements.txt (line 8)) (4.12.1)\n",
      "Requirement already satisfied: protobuf>=3.0.0 in /usr/local/lib/python3.9/site-packages (from mysql-connector-python==8.0.25->-r requirements.txt (line 9)) (4.21.5)\n",
      "Requirement already satisfied: defusedxml>=0.6.0 in /usr/local/lib/python3.9/site-packages (from onelogin==2.0.1->-r requirements.txt (line 10)) (0.7.1)\n",
      "Requirement already satisfied: deepmerge>=1.0.1 in /usr/local/lib/python3.9/site-packages (from stix2-matcher==3.0.0->-r requirements.txt (line 14)) (1.0.1)\n",
      "Requirement already satisfied: simplejson in /usr/local/lib/python3.9/site-packages (from stix2-validator==3.0.2->-r requirements.txt (line 16)) (3.17.6)\n",
      "Requirement already satisfied: cpe in /usr/local/lib/python3.9/site-packages (from stix2-validator==3.0.2->-r requirements.txt (line 16)) (1.2.1)\n",
      "Requirement already satisfied: requests-cache in /usr/local/lib/python3.9/site-packages (from stix2-validator==3.0.2->-r requirements.txt (line 16)) (0.6.4)\n"
     ]
    },
    {
     "name": "stdout",
     "output_type": "stream",
     "text": [
      "Requirement already satisfied: colorama in /usr/local/lib/python3.9/site-packages (from stix2-validator==3.0.2->-r requirements.txt (line 16)) (0.4.5)\n",
      "Requirement already satisfied: appdirs in /usr/local/lib/python3.9/site-packages (from stix2-validator==3.0.2->-r requirements.txt (line 16)) (1.4.4)\n",
      "Requirement already satisfied: setuptools in /usr/local/lib/python3.9/site-packages (from pytest==3.5.0->-r requirements-dev.txt (line 16)) (63.2.0)\n",
      "Requirement already satisfied: cffi>=1.12 in /usr/local/lib/python3.9/site-packages (from cryptography>=1.1.0->adal==1.2.7->-r requirements.txt (line 1)) (1.15.1)\n",
      "Requirement already satisfied: MarkupSafe>=2.0 in /usr/local/lib/python3.9/site-packages (from Jinja2>=3.0->flask==2.0.3->-r requirements.txt (line 6)) (2.1.1)\n"
     ]
    },
    {
     "name": "stderr",
     "output_type": "stream",
     "text": [
      "WARNING: jsonschema 4.12.1 does not provide the extra 'format_nongpl'\n"
     ]
    },
    {
     "name": "stdout",
     "output_type": "stream",
     "text": [
      "Requirement already satisfied: pyrsistent!=0.17.0,!=0.17.1,!=0.17.2,>=0.14.0 in /usr/local/lib/python3.9/site-packages (from jsonschema->jsonmerge==1.8.0->-r requirements.txt (line 8)) (0.18.1)\n",
      "Requirement already satisfied: charset-normalizer<3,>=2 in /usr/local/lib/python3.9/site-packages (from requests<3,>=2.0.0->adal==1.2.7->-r requirements.txt (line 1)) (2.1.0)\n",
      "Requirement already satisfied: idna<4,>=2.5 in /usr/local/lib/python3.9/site-packages (from requests<3,>=2.0.0->adal==1.2.7->-r requirements.txt (line 1)) (3.3)\n",
      "Requirement already satisfied: url-normalize>=1.4 in /usr/local/lib/python3.9/site-packages (from requests-cache->stix2-validator==3.0.2->-r requirements.txt (line 16)) (1.4.3)\n",
      "Requirement already satisfied: pycparser in /usr/local/lib/python3.9/site-packages (from cffi>=1.12->cryptography>=1.1.0->adal==1.2.7->-r requirements.txt (line 1)) (2.21)\n"
     ]
    },
    {
     "name": "stderr",
     "output_type": "stream",
     "text": [
      "DEPRECATION: Configuring installation scheme with distutils config files is deprecated and will no longer work in the near future. If you are using a Homebrew or Linuxbrew Python, please see discussion at https://github.com/Homebrew/homebrew-core/issues/76621\n",
      "DEPRECATION: Configuring installation scheme with distutils config files is deprecated and will no longer work in the near future. If you are using a Homebrew or Linuxbrew Python, please see discussion at https://github.com/Homebrew/homebrew-core/issues/76621\n"
     ]
    },
    {
     "name": "stdout",
     "output_type": "stream",
     "text": [
      "Looking in indexes: https://pypi.org/simple, https://pypi.org/simple\n",
      "Requirement already satisfied: python-dotenv in /usr/local/lib/python3.9/site-packages (0.20.0)\n"
     ]
    },
    {
     "name": "stderr",
     "output_type": "stream",
     "text": [
      "DEPRECATION: Configuring installation scheme with distutils config files is deprecated and will no longer work in the near future. If you are using a Homebrew or Linuxbrew Python, please see discussion at https://github.com/Homebrew/homebrew-core/issues/76621\n"
     ]
    }
   ],
   "source": [
    "%%bash\n",
    "cd $SS_PATH\n",
    "python3 generate_requirements.py\n",
    "pip install -r requirements-dev.txt\n",
    "pip install python-dotenv"
   ]
  },
  {
   "cell_type": "markdown",
   "id": "31f347eb",
   "metadata": {},
   "source": [
    "### Set sample ReaQta results JSON to environment variable"
   ]
  },
  {
   "cell_type": "code",
   "execution_count": 37,
   "id": "c9d6707f",
   "metadata": {},
   "outputs": [
    {
     "name": "stdout",
     "output_type": "stream",
     "text": [
      "env: REAQTA_RESULTS=[   {    \"eventId\": \"847102109500309505\",    \"endpointId\": \"842028663686823936\",    \"payload\":        {         \"localId\": \"847101972854081537\",          \"process\": {                      \"id\": \"842028663686823936:2222:1648564483636\",                      \"parentId\": \"842028663686823936:1111:1648485432579\",                      \"endpointId\": \"842028663686823936\",                      \"program\": {                                  \"path\": \"c:\\\\users\\\\reaqta\\\\downloads\\\\test.exe\",                                  \"filename\": \"abcd.exe\",                                  \"md5\": \"d05807b758e56634abfdb7cd62798765\",                                  \"sha1\": \"adb328949df38cece2fc7ad818788d12ej311a9a90\",                                  \"sha256\": \"a4693a722a69bb5b58e02bd1b28369a123459047bd37bda4836b97a6a6c65432\",                                  \"size\": 73802,                                  \"arch\": \"x32\",                                  \"fsName\": \"test.exe\"                                 },                      \"user\": \"DESKTOP-TEST\\\\ReaQta-test\",                      \"pid\": 2222,                      \"startTime\": \"2022-03-29T14:34:43.636Z\",                      \"ppid\": 1111,                      \"pstartTime\": \"2022-03-28T16:37:12.579Z\",                      \"userSID\": \"S-1-1-11-00000000-1111111-222222222-9999\",                      \"privilegeLevel\": \"MEDIUM\",                      \"noGui\": false,                      \"logonId\": \"0xxx1s1\"                     },         \"incidents\": [],         \"triggeredIncidents\": [],         \"data\": {                  \"addressFamily\": 0,                  \"protocol\": 0,                  \"localAddr\": \"192.168.1.2\",                  \"localPort\": 443,                  \"remoteAddr\": \"192.168.2.3\",                  \"remotePort\": 8443,                  \"outbound\": true                 },         \"eventType\": 8        },    \"happenedAt\": \"2022-03-29T14:40:48.722Z\",    \"receivedAt\": \"2022-03-29T14:41:21.301Z\"   } ]\n"
     ]
    }
   ],
   "source": [
    "%env REAQTA_RESULTS \\\n",
    "[ \\\n",
    " { \\\n",
    "  \"eventId\": \"847102109500309505\", \\\n",
    "  \"endpointId\": \"842028663686823936\", \\\n",
    "  \"payload\": \\\n",
    "      { \\\n",
    "       \"localId\": \"847101972854081537\", \\\n",
    "        \"process\": { \\\n",
    "                    \"id\": \"842028663686823936:2222:1648564483636\", \\\n",
    "                    \"parentId\": \"842028663686823936:1111:1648485432579\", \\\n",
    "                    \"endpointId\": \"842028663686823936\", \\\n",
    "                    \"program\": { \\\n",
    "                                \"path\": \"c:\\\\users\\\\reaqta\\\\downloads\\\\test.exe\", \\\n",
    "                                \"filename\": \"abcd.exe\", \\\n",
    "                                \"md5\": \"d05807b758e56634abfdb7cd62798765\", \\\n",
    "                                \"sha1\": \"adb328949df38cece2fc7ad818788d12ej311a9a90\", \\\n",
    "                                \"sha256\": \"a4693a722a69bb5b58e02bd1b28369a123459047bd37bda4836b97a6a6c65432\", \\\n",
    "                                \"size\": 73802, \\\n",
    "                                \"arch\": \"x32\", \\\n",
    "                                \"fsName\": \"test.exe\" \\\n",
    "                               }, \\\n",
    "                    \"user\": \"DESKTOP-TEST\\\\ReaQta-test\", \\\n",
    "                    \"pid\": 2222, \\\n",
    "                    \"startTime\": \"2022-03-29T14:34:43.636Z\", \\\n",
    "                    \"ppid\": 1111, \\\n",
    "                    \"pstartTime\": \"2022-03-28T16:37:12.579Z\", \\\n",
    "                    \"userSID\": \"S-1-1-11-00000000-1111111-222222222-9999\", \\\n",
    "                    \"privilegeLevel\": \"MEDIUM\", \\\n",
    "                    \"noGui\": false, \\\n",
    "                    \"logonId\": \"0xxx1s1\" \\\n",
    "                   }, \\\n",
    "       \"incidents\": [], \\\n",
    "       \"triggeredIncidents\": [], \\\n",
    "       \"data\": { \\\n",
    "                \"addressFamily\": 0, \\\n",
    "                \"protocol\": 0, \\\n",
    "                \"localAddr\": \"192.168.1.2\", \\\n",
    "                \"localPort\": 443, \\\n",
    "                \"remoteAddr\": \"192.168.2.3\", \\\n",
    "                \"remotePort\": 8443, \\\n",
    "                \"outbound\": true \\\n",
    "               }, \\\n",
    "       \"eventType\": 8 \\\n",
    "      }, \\\n",
    "  \"happenedAt\": \"2022-03-29T14:40:48.722Z\", \\\n",
    "  \"receivedAt\": \"2022-03-29T14:41:21.301Z\" \\\n",
    " }\\\n",
    "]\n",
    "\n"
   ]
  },
  {
   "cell_type": "markdown",
   "id": "566f291c",
   "metadata": {},
   "source": [
    "### Translate ReaQta results into STIX with CLI command"
   ]
  },
  {
   "cell_type": "code",
   "execution_count": 38,
   "id": "8ff1a0c6",
   "metadata": {},
   "outputs": [
    {
     "name": "stdout",
     "output_type": "stream",
     "text": [
      "{\n",
      "    \"type\": \"bundle\",\n",
      "    \"id\": \"bundle--7f6d556f-eebc-4af4-bef2-5b756bc67bd9\",\n",
      "    \"objects\": [\n",
      "        {\n",
      "            \"type\": \"identity\",\n",
      "            \"id\": \"identity--f431f809-377b-45e0-aa1c-6a4751cae5ff\",\n",
      "            \"name\": \"STIX Demo\",\n",
      "            \"identity_class\": \"system\",\n",
      "            \"created\": \"2022-04-07T20:35:41.042Z\",\n",
      "            \"modified\": \"2022-04-07T20:35:41.042Z\"\n",
      "        },\n",
      "        {\n",
      "            \"id\": \"observed-data--67989789-d5da-4f04-a80c-0bd05ed2ac1c\",\n",
      "            \"type\": \"observed-data\",\n",
      "            \"created_by_ref\": \"identity--f431f809-377b-45e0-aa1c-6a4751cae5ff\",\n",
      "            \"created\": \"2022-08-23T15:40:38.775Z\",\n",
      "            \"modified\": \"2022-08-23T15:40:38.775Z\",\n",
      "            \"objects\": {\n",
      "                \"0\": {\n",
      "                    \"type\": \"x-oca-event\",\n",
      "                    \"code\": 847102109500309505,\n",
      "                    \"file_ref\": \"6\",\n",
      "                    \"user_ref\": \"7\",\n",
      "                    \"process_ref\": \"3\",\n",
      "                    \"parent_process_ref\": \"4\",\n",
      "                    \"network_ref\": \"9\",\n",
      "                    \"category\": \"8\",\n",
      "                    \"action\": \"Network Connection Established\",\n",
      "                    \"created\": \"2022-03-29T14:41:21.301Z\"\n",
      "                },\n",
      "                \"1\": {\n",
      "                    \"type\": \"x-oca-asset\",\n",
      "                    \"host_id\": \"842028663686823936\",\n",
      "                    \"ip_refs\": [\n",
      "                        \"10\"\n",
      "                    ]\n",
      "                },\n",
      "                \"2\": {\n",
      "                    \"type\": \"x-reaqta-event\",\n",
      "                    \"local_id\": \"847101972854081537\"\n",
      "                },\n",
      "                \"3\": {\n",
      "                    \"type\": \"process\",\n",
      "                    \"extensions\": {\n",
      "                        \"x-process-ext\": {\n",
      "                            \"process_uid\": \"842028663686823936:2222:1648564483636\"\n",
      "                        },\n",
      "                        \"windows-process-ext\": {\n",
      "                            \"owner_sid\": \"S-1-1-11-00000000-1111111-222222222-9999\"\n",
      "                        },\n",
      "                        \"x-reaqta-process\": {\n",
      "                            \"privilege_level\": \"MEDIUM\",\n",
      "                            \"no_gui\": false,\n",
      "                            \"logon_id\": \"0xxx1s1\"\n",
      "                        }\n",
      "                    },\n",
      "                    \"binary_ref\": \"6\",\n",
      "                    \"creator_user_ref\": \"7\",\n",
      "                    \"pid\": 2222,\n",
      "                    \"created\": \"2022-03-29T14:34:43.636Z\",\n",
      "                    \"parent_ref\": \"4\"\n",
      "                },\n",
      "                \"4\": {\n",
      "                    \"type\": \"process\",\n",
      "                    \"extensions\": {\n",
      "                        \"x-process-ext\": {\n",
      "                            \"parent_process_uid\": \"842028663686823936:1111:1648485432579\"\n",
      "                        }\n",
      "                    },\n",
      "                    \"pid\": 1111\n",
      "                },\n",
      "                \"5\": {\n",
      "                    \"type\": \"directory\",\n",
      "                    \"path\": \"c:\\\\users\\\\reaqta\\\\downloads\"\n",
      "                },\n",
      "                \"6\": {\n",
      "                    \"type\": \"file\",\n",
      "                    \"parent_directory_ref\": \"5\",\n",
      "                    \"name\": \"abcd.exe\",\n",
      "                    \"hashes\": {\n",
      "                        \"MD5\": \"d05807b758e56634abfdb7cd62798765\",\n",
      "                        \"SHA-1\": \"adb328949df38cece2fc7ad818788d12ej311a9a90\",\n",
      "                        \"SHA-256\": \"a4693a722a69bb5b58e02bd1b28369a123459047bd37bda4836b97a6a6c65432\"\n",
      "                    },\n",
      "                    \"size\": 73802,\n",
      "                    \"extensions\": {\n",
      "                        \"x-reaqta-program\": {\n",
      "                            \"arch\": \"x32\",\n",
      "                            \"fsname\": \"test.exe\"\n",
      "                        }\n",
      "                    }\n",
      "                },\n",
      "                \"7\": {\n",
      "                    \"type\": \"user-account\",\n",
      "                    \"user_id\": \"DESKTOP-TEST\\\\ReaQta-test\"\n",
      "                },\n",
      "                \"8\": {\n",
      "                    \"type\": \"x-ibm-finding\",\n",
      "                    \"extensions\": {\n",
      "                        \"x-reaqta-alert\": {\n",
      "                            \"incidents\": [],\n",
      "                            \"triggered_incidents\": []\n",
      "                        }\n",
      "                    },\n",
      "                    \"src_ip_ref\": \"10\",\n",
      "                    \"dst_ip_ref\": \"11\"\n",
      "                },\n",
      "                \"9\": {\n",
      "                    \"type\": \"network-traffic\",\n",
      "                    \"extensions\": {\n",
      "                        \"x-reaqta-network\": {\n",
      "                            \"address_family\": \"IPv4\",\n",
      "                            \"outbound\": true\n",
      "                        }\n",
      "                    },\n",
      "                    \"protocols\": [\n",
      "                        \"tcp\"\n",
      "                    ],\n",
      "                    \"src_port\": 443,\n",
      "                    \"dst_port\": 8443,\n",
      "                    \"src_ref\": \"10\",\n",
      "                    \"dst_ref\": \"11\"\n",
      "                },\n",
      "                \"10\": {\n",
      "                    \"type\": \"ipv4-addr\",\n",
      "                    \"value\": \"192.168.1.2\"\n",
      "                },\n",
      "                \"11\": {\n",
      "                    \"type\": \"ipv4-addr\",\n",
      "                    \"value\": \"192.168.2.3\"\n",
      "                }\n",
      "            },\n",
      "            \"first_observed\": \"2022-03-29T14:40:48.722Z\",\n",
      "            \"last_observed\": \"2022-03-29T14:40:48.722Z\",\n",
      "            \"number_observed\": 1\n",
      "        }\n",
      "    ],\n",
      "    \"spec_version\": \"2.0\"\n",
      "}\n"
     ]
    }
   ],
   "source": [
    "%%bash\n",
    "cd $STIX_SHIFTER_PATH\n",
    "python main.py translate reaqta results \"$IDENTITY_OBJECT\" \"$REAQTA_RESULTS\""
   ]
  },
  {
   "cell_type": "markdown",
   "id": "efdec47e",
   "metadata": {},
   "source": [
    "### Navigate to the MySQL module"
   ]
  },
  {
   "cell_type": "code",
   "execution_count": 39,
   "id": "b2e3a222",
   "metadata": {
    "scrolled": true
   },
   "outputs": [
    {
     "name": "stdout",
     "output_type": "stream",
     "text": [
      "(bookmark:SS_PATH) -> /Users/danny.elliott.ibm.com/Documents/IBM_Documents/jupyter/stix-shifter\n",
      "/Users/danny.elliott.ibm.com/Documents/IBM_Documents/jupyter/stix-shifter\n",
      "/Users/danny.elliott.ibm.com/Documents/IBM_Documents/jupyter/stix-shifter/stix_shifter_modules/mysql/stix_translation/json\n",
      "from_stix_map.json  \u001b[34mstix-shifter\u001b[m\u001b[m/       to_stix_map.json\n",
      "operators.json      \u001b[34mstix_2_1\u001b[m\u001b[m/\n"
     ]
    }
   ],
   "source": [
    "%cd -b SS_PATH\n",
    "%cd stix_shifter_modules/mysql/stix_translation/json\n",
    "%ls"
   ]
  },
  {
   "cell_type": "markdown",
   "id": "3ad97409",
   "metadata": {},
   "source": [
    "### Load the operators.json file for editing"
   ]
  },
  {
   "cell_type": "code",
   "execution_count": null,
   "id": "12228a3d",
   "metadata": {},
   "outputs": [],
   "source": [
    "# %load operators.json\n",
    "\n",
    "{\n",
    "    \"ComparisonExpressionOperators.And\": \"AND\",\n",
    "    \"ComparisonExpressionOperators.Or\": \"OR\",\n",
    "    \"ComparisonComparators.GreaterThan\": \">\",\n",
    "    \"ComparisonComparators.GreaterThanOrEqual\": \">=\",\n",
    "    \"ComparisonComparators.LessThan\": \"<\",\n",
    "    \"ComparisonComparators.LessThanOrEqual\": \"<=\",\n",
    "    \"ComparisonComparators.Equal\": \"=\",\n",
    "    \"ComparisonComparators.NotEqual\": \"!=\",\n",
    "    \"ComparisonComparators.Like\": \"LIKE\",\n",
    "    \"ComparisonComparators.In\": \"IN\",\n",
    "    \"ComparisonComparators.Matches\": \"LIKE\",\n",
    "    \"ObservationOperators.Or\": \"OR\",\n",
    "    \"ObservationOperators.And\": \"OR\"\n",
    "}\n"
   ]
  },
  {
   "cell_type": "code",
   "execution_count": 41,
   "id": "b1333d92",
   "metadata": {},
   "outputs": [
    {
     "name": "stdout",
     "output_type": "stream",
     "text": [
      "Overwriting operators.json\n"
     ]
    }
   ],
   "source": [
    "%%writefile operators.json\n",
    "\n",
    "{\n",
    "    \"ComparisonExpressionOperators.And\": \"AND\",\n",
    "    \"ComparisonExpressionOperators.Or\": \"OR\",\n",
    "    \"ComparisonComparators.GreaterThan\": \">\",\n",
    "    \"ComparisonComparators.GreaterThanOrEqual\": \">=\",\n",
    "    \"ComparisonComparators.LessThan\": \"<\",\n",
    "    \"ComparisonComparators.LessThanOrEqual\": \"<=\",\n",
    "    \"ComparisonComparators.Equal\": \"=\",\n",
    "    \"ComparisonComparators.NotEqual\": \"!=\",\n",
    "    \"ComparisonComparators.Like\": \"LIKE\",\n",
    "    \"ComparisonComparators.In\": \"IN\",\n",
    "    \"ComparisonComparators.Matches\": \"LIKE\",\n",
    "    \"ObservationOperators.Or\": \"OR\",\n",
    "    \"ObservationOperators.And\": \"OR\"\n",
    "}"
   ]
  },
  {
   "cell_type": "code",
   "execution_count": null,
   "id": "2313037b",
   "metadata": {},
   "outputs": [],
   "source": [
    "# %load from_stix_map.json\n",
    "{\n",
    "  \"ipv4-addr\": {\n",
    "    \"fields\": {\n",
    "      \"value\": [\"source_ipaddr\", \"dest_ipaddr\"]\n",
    "    }\n",
    "  },\n",
    "  \"ipv6-addr\": {\n",
    "    \"fields\": {\n",
    "      \"value\": [\"source_ipaddr\", \"dest_ipaddr\"]\n",
    "    }\n",
    "  },\n",
    "  \"url\": {\n",
    "    \"fields\": {\n",
    "      \"value\": [\"url\"]\n",
    "    }\n",
    "  },\n",
    "  \"file\": {\n",
    "    \"fields\": {\n",
    "      \"name\": [\"filename\"],\n",
    "      \"hashes.'SHA-256'\": [\"sha256hash\"],\n",
    "      \"hashes.MD5\": [\"md5hash\"],\n",
    "      \"parent_directory_ref.path\": [\"file_path\"],\n",
    "      \"created\": [\"file_created_time\"],\n",
    "      \"modified\": [\"file_modified_time\"],\n",
    "      \"accessed\": [\"file_accessed_time\"]\n",
    "    }\n",
    "  },\n",
    "  \"user-account\": {\n",
    "    \"fields\": {\n",
    "      \"user_id\": [\"username\"]\n",
    "    }\n",
    "  },\n",
    "  \"directory\": {\n",
    "    \"fields\": {\n",
    "      \"path\": [\"file_path\"],\n",
    "      \"created\": [\"directory_created_time\"],\n",
    "      \"modified\": [\"directory_modified_time\"],\n",
    "      \"accessed\": [\"directory_accessed_time\"]\n",
    "    }\n",
    "  },\n",
    "  \"network-traffic\": {\n",
    "    \"fields\": {\n",
    "      \"src_ref.value\": [\"source_ipaddr\"],\n",
    "      \"dst_ref.value\": [\"dest_ipaddr\"],\n",
    "      \"src_port\": [\"source_port\"],\n",
    "      \"dst_port\": [\"dest_port\"],\n",
    "      \"protocols[*]\": [\"protocol\"],\n",
    "      \"start\": [\"entry_time\"],\n",
    "      \"end\": [\"entry_time\"]\n",
    "    }\n",
    "  },\n",
    "  \"process\": {\n",
    "    \"fields\": {\n",
    "      \"pid\": [\"process_id\"],\n",
    "      \"name\": [\"process_name\"],\n",
    "      \"arguments\": [\"process_arguments\"],\n",
    "      \"created\": [\"process_created_time\"],\n",
    "      \"binary_ref.name\": [\"filename\"]\n",
    "    }\n",
    "  },\n",
    "  \"x-mysql\": {\n",
    "    \"fields\": {\n",
    "      \"system_name\": [\"system_name\"],\n",
    "      \"severity\": [\"severity\"]\n",
    "    }\n",
    "  }\n",
    "}\n"
   ]
  },
  {
   "cell_type": "code",
   "execution_count": 25,
   "id": "4c0c00ac",
   "metadata": {},
   "outputs": [
    {
     "name": "stdout",
     "output_type": "stream",
     "text": [
      "env: PATTERN=[url:value = 'www.example.com']\n"
     ]
    }
   ],
   "source": [
    "%env PATTERN=[url:value = 'www.example.com']"
   ]
  },
  {
   "cell_type": "code",
   "execution_count": 31,
   "id": "4286f88e",
   "metadata": {},
   "outputs": [
    {
     "name": "stderr",
     "output_type": "stream",
     "text": [
      "\u001b[37m 2022-08-22 15:54:09,334 stix_shifter_modules.mysql.stix_translation.query_translator INFO     Converting STIX2 Pattern to data source query\u001b[0m\n"
     ]
    },
    {
     "name": "stdout",
     "output_type": "stream",
     "text": [
      "{\n",
      "    \"queries\": [\n",
      "        \"SELECT * FROM demo_table WHERE url = 'www.example.com' limit 10000\"\n",
      "    ]\n",
      "}\n"
     ]
    }
   ],
   "source": [
    "%%bash\n",
    "cd $STIX_SHIFTER_PATH\n",
    "python main.py translate mysql query \"$IDENTITY_OBJECT\" \"$PATTERN\" '{\"table\": \"demo_table\"}'\n"
   ]
  },
  {
   "cell_type": "code",
   "execution_count": 32,
   "id": "926953e5",
   "metadata": {},
   "outputs": [
    {
     "name": "stdout",
     "output_type": "stream",
     "text": [
      "(bookmark:SS_PATH) -> /Users/danny.elliott.ibm.com/Documents/IBM_Documents/jupyter/stix-shifter\n",
      "/Users/danny.elliott.ibm.com/Documents/IBM_Documents/jupyter/stix-shifter\n",
      "/Users/danny.elliott.ibm.com/Documents/IBM_Documents/jupyter/stix-shifter/stix_shifter_modules/mysql/stix_translation/json\n",
      "from_stix_map.json  operators.json      \u001b[34mstix_2_1\u001b[m\u001b[m/           to_stix_map.json\n"
     ]
    }
   ],
   "source": [
    "%cd -b SS_PATH\n",
    "%cd stix_shifter_modules/mysql/stix_translation/json\n",
    "%ls\n"
   ]
  },
  {
   "cell_type": "code",
   "execution_count": null,
   "id": "2b1c274f",
   "metadata": {},
   "outputs": [],
   "source": [
    "# %load from_stix_map.json\n",
    "{\n",
    "  \"ipv4-addr\": {\n",
    "    \"fields\": {\n",
    "      \"value\": [\"source_ipaddr\", \"dest_ipaddr\"]\n",
    "    }\n",
    "  },\n",
    "  \"ipv6-addr\": {\n",
    "    \"fields\": {\n",
    "      \"value\": [\"source_ipaddr\", \"dest_ipaddr\"]\n",
    "    }\n",
    "  },\n",
    "  \"url\": {\n",
    "    \"fields\": {\n",
    "      \"value\": [\"url\"]\n",
    "    }\n",
    "  },\n",
    "  \"file\": {\n",
    "    \"fields\": {\n",
    "      \"name\": [\"filename\"],\n",
    "      \"hashes.'SHA-256'\": [\"sha256hash\"],\n",
    "      \"hashes.MD5\": [\"md5hash\"],\n",
    "      \"parent_directory_ref.path\": [\"file_path\"],\n",
    "      \"created\": [\"file_created_time\"],\n",
    "      \"modified\": [\"file_modified_time\"],\n",
    "      \"accessed\": [\"file_accessed_time\"]\n",
    "    }\n",
    "  },\n",
    "  \"user-account\": {\n",
    "    \"fields\": {\n",
    "      \"user_id\": [\"username\"]\n",
    "    }\n",
    "  },\n",
    "  \"directory\": {\n",
    "    \"fields\": {\n",
    "      \"path\": [\"file_path\"],\n",
    "      \"created\": [\"directory_created_time\"],\n",
    "      \"modified\": [\"directory_modified_time\"],\n",
    "      \"accessed\": [\"directory_accessed_time\"]\n",
    "    }\n",
    "  },\n",
    "  \"network-traffic\": {\n",
    "    \"fields\": {\n",
    "      \"src_ref.value\": [\"source_ipaddr\"],\n",
    "      \"dst_ref.value\": [\"dest_ipaddr\"],\n",
    "      \"src_port\": [\"source_port\"],\n",
    "      \"dst_port\": [\"dest_port\"],\n",
    "      \"protocols[*]\": [\"protocol\"],\n",
    "      \"start\": [\"entry_time\"],\n",
    "      \"end\": [\"entry_time\"]\n",
    "    }\n",
    "  },\n",
    "  \"process\": {\n",
    "    \"fields\": {\n",
    "      \"pid\": [\"process_id\"],\n",
    "      \"name\": [\"process_name\"],\n",
    "      \"arguments\": [\"process_arguments\"],\n",
    "      \"created\": [\"process_created_time\"],\n",
    "      \"binary_ref.name\": [\"filename\"]\n",
    "    }\n",
    "  },\n",
    "  \"x-mysql\": {\n",
    "    \"fields\": {\n",
    "      \"system_name\": [\"system_name\"],\n",
    "      \"severity\": [\"severity\"]\n",
    "    }\n",
    "  }\n",
    "}\n"
   ]
  },
  {
   "cell_type": "markdown",
   "id": "c20dc152",
   "metadata": {},
   "source": [
    "%%writefile from_stix_map.json"
   ]
  },
  {
   "cell_type": "code",
   "execution_count": null,
   "id": "eb4a9707",
   "metadata": {},
   "outputs": [],
   "source": []
  }
 ],
 "metadata": {
  "kernelspec": {
   "display_name": "Python 3 (ipykernel)",
   "language": "python",
   "name": "python3"
  },
  "language_info": {
   "codemirror_mode": {
    "name": "ipython",
    "version": 3
   },
   "file_extension": ".py",
   "mimetype": "text/x-python",
   "name": "python",
   "nbconvert_exporter": "python",
   "pygments_lexer": "ipython3",
   "version": "3.9.7"
  }
 },
 "nbformat": 4,
 "nbformat_minor": 5
}
